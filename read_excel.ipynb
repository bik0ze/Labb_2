{
 "cells": [
  {
   "cell_type": "code",
   "execution_count": 9,
   "metadata": {},
   "outputs": [
    {
     "data": {
      "text/plain": [
       "['Engelska',\n",
       " 'Matematik',\n",
       " 'Svenska',\n",
       " 'Svenska som andraspråk',\n",
       " 'Rapportbeskrivning och def.']"
      ]
     },
     "execution_count": 9,
     "metadata": {},
     "output_type": "execute_result"
    }
   ],
   "source": [
    "import pandas as pd\n",
    "\n",
    "# Filväg till den uppladdade filen\n",
    "file_path = \"riket2023_åk9_np.xlsx\"\n",
    "\n",
    "# Läsa in sheet-namn\n",
    "sheets = pd.ExcelFile(file_path).sheet_names\n",
    "sheets\n"
   ]
  }
 ],
 "metadata": {
  "kernelspec": {
   "display_name": "venv",
   "language": "python",
   "name": "python3"
  },
  "language_info": {
   "codemirror_mode": {
    "name": "ipython",
    "version": 3
   },
   "file_extension": ".py",
   "mimetype": "text/x-python",
   "name": "python",
   "nbconvert_exporter": "python",
   "pygments_lexer": "ipython3",
   "version": "3.13.1"
  }
 },
 "nbformat": 4,
 "nbformat_minor": 2
}
