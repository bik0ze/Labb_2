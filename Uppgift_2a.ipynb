{
 "cells": [
  {
   "cell_type": "code",
   "execution_count": 3,
   "metadata": {},
   "outputs": [
    {
     "name": "stdout",
     "output_type": "stream",
     "text": [
      "📂 Tillgängliga sheets i filen:\n",
      "['Tabell 1A', 'Tabell 1B', 'Definitioner']\n"
     ]
    }
   ],
   "source": [
    "import pandas as pd\n",
    "\n",
    "# Filnamn\n",
    "file_path = \"betyg_o_prov_riksnivå.xlsx\"\n",
    "\n",
    "# Läs in alla sheet-namn\n",
    "xls = pd.ExcelFile(file_path)\n",
    "print(\"📂 Tillgängliga sheets i filen:\")\n",
    "print(xls.sheet_names)\n"
   ]
  },
  {
   "cell_type": "code",
   "execution_count": null,
   "metadata": {},
   "outputs": [],
   "source": [
    "# Läs in Tabell 1B och visa de första raderna\n",
    "df = pd.read_excel(file_path, sheet_name=\"Tabell 1B\")\n",
    "\n",
    "# Skriv ut de första raderna och kolumnnamnen\n",
    "print(\"📊 Första raderna i Tabell 1B:\")\n",
    "print(df.head(10))\n",
    "print(\"\\n📊 Kolumnnamn:\")\n",
    "print(df.columns)\n"
   ]
  }
 ],
 "metadata": {
  "kernelspec": {
   "display_name": "venv",
   "language": "python",
   "name": "python3"
  },
  "language_info": {
   "codemirror_mode": {
    "name": "ipython",
    "version": 3
   },
   "file_extension": ".py",
   "mimetype": "text/x-python",
   "name": "python",
   "nbconvert_exporter": "python",
   "pygments_lexer": "ipython3",
   "version": "3.13.1"
  }
 },
 "nbformat": 4,
 "nbformat_minor": 2
}
