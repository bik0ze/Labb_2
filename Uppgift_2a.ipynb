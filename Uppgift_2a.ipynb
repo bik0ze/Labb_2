{
 "cells": [
  {
   "cell_type": "code",
   "execution_count": null,
   "metadata": {},
   "outputs": [
    {
     "ename": "NameError",
     "evalue": "name 'pd' is not defined",
     "output_type": "error",
     "traceback": [
      "\u001b[31m---------------------------------------------------------------------------\u001b[39m",
      "\u001b[31mNameError\u001b[39m                                 Traceback (most recent call last)",
      "\u001b[36mCell\u001b[39m\u001b[36m \u001b[39m\u001b[32mIn[1]\u001b[39m\u001b[32m, line 2\u001b[39m\n\u001b[32m      1\u001b[39m \u001b[38;5;66;03m# Läs in data igen\u001b[39;00m\n\u001b[32m----> \u001b[39m\u001b[32m2\u001b[39m df_merit = \u001b[43mpd\u001b[49m.read_excel(file_path, sheet_name=\u001b[33m\"\u001b[39m\u001b[33mTabell 1B\u001b[39m\u001b[33m\"\u001b[39m, skiprows=\u001b[32m5\u001b[39m)\n\u001b[32m      4\u001b[39m \u001b[38;5;66;03m# Byt kolumnnamn\u001b[39;00m\n\u001b[32m      5\u001b[39m df_merit.columns = [\u001b[33m\"\u001b[39m\u001b[33mLäsår\u001b[39m\u001b[33m\"\u001b[39m, \u001b[33m\"\u001b[39m\u001b[33mHuvudman\u001b[39m\u001b[33m\"\u001b[39m, \u001b[33m\"\u001b[39m\u001b[33mTotalt 16 ämnen\u001b[39m\u001b[33m\"\u001b[39m, \u001b[33m\"\u001b[39m\u001b[33mFlickor 16 ämnen\u001b[39m\u001b[33m\"\u001b[39m, \u001b[33m\"\u001b[39m\u001b[33mPojkar 16 ämnen\u001b[39m\u001b[33m\"\u001b[39m,\n\u001b[32m      6\u001b[39m                     \u001b[33m\"\u001b[39m\u001b[33mTotalt 17 ämnen\u001b[39m\u001b[33m\"\u001b[39m, \u001b[33m\"\u001b[39m\u001b[33mFlickor 17 ämnen\u001b[39m\u001b[33m\"\u001b[39m, \u001b[33m\"\u001b[39m\u001b[33mPojkar 17 ämnen\u001b[39m\u001b[33m\"\u001b[39m,\n\u001b[32m      7\u001b[39m                     \u001b[33m\"\u001b[39m\u001b[33mAndel utan godkänt Totalt\u001b[39m\u001b[33m\"\u001b[39m, \u001b[33m\"\u001b[39m\u001b[33mAndel utan godkänt Flickor\u001b[39m\u001b[33m\"\u001b[39m, \u001b[33m\"\u001b[39m\u001b[33mAndel utan godkänt Pojkar\u001b[39m\u001b[33m\"\u001b[39m]\n",
      "\u001b[31mNameError\u001b[39m: name 'pd' is not defined"
     ]
    }
   ],
   "source": [
    "import pandas as pd\n",
    "import plotly.express as px\n",
    "import os\n",
    "\n",
    "# Använd befintlig mapp \"Visualiseringar\"\n",
    "output_dir = \"Visualiseringar\"\n",
    "\n",
    "# Läs in datasetet, hoppa över raderna med rubriker\n",
    "file_path = \"betyg_o_prov_riksnivå.xlsx\"\n",
    "df = pd.read_excel(file_path, sheet_name=\"Tabell 1B\", skiprows=5)  # Justera om data startar senare\n",
    "\n",
    "# Byt kolumnnamn för att matcha analysen\n",
    "df.columns = [\"Läsår\", \"Huvudman\", \"Totalt 16 ämnen\", \"Flickor 16 ämnen\", \"Pojkar 16 ämnen\",\n",
    "              \"Totalt 17 ämnen\", \"Flickor 17 ämnen\", \"Pojkar 17 ämnen\",\n",
    "              \"Andel utan godkänt Totalt\", \"Andel utan godkänt Flickor\", \"Andel utan godkänt Pojkar\"]\n",
    "\n",
    "# Filtrera för läsår 2018-2023\n",
    "df = df[df[\"Läsår\"].between(2018, 2023)]\n",
    "\n",
    "# Plotta linjediagram\n",
    "fig = px.line(df, x=\"Läsår\", y=[\"Andel utan godkänt Totalt\", \"Andel utan godkänt Flickor\", \"Andel utan godkänt Pojkar\"],\n",
    "              markers=True, title=\"Andel elever utan godkänt betyg (2018-2023)\",\n",
    "              labels={\"value\": \"Andel elever (%)\", \"variable\": \"Kön\"})\n",
    "\n",
    "# Spara grafen som HTML\n",
    "html_path = os.path.join(output_dir, \"andel_elever_utan_godkänt.html\")\n",
    "fig.write_html(html_path)\n",
    "print(f\"✅ Graf sparad som HTML: {html_path}\")\n",
    "\n",
    "# Visa grafen\n",
    "fig.show()"
   ]
  }
 ],
 "metadata": {
  "kernelspec": {
   "display_name": "venv",
   "language": "python",
   "name": "python3"
  },
  "language_info": {
   "codemirror_mode": {
    "name": "ipython",
    "version": 3
   },
   "file_extension": ".py",
   "mimetype": "text/x-python",
   "name": "python",
   "nbconvert_exporter": "python",
   "pygments_lexer": "ipython3",
   "version": "3.13.1"
  }
 },
 "nbformat": 4,
 "nbformat_minor": 2
}
